{
 "cells": [
  {
   "cell_type": "markdown",
   "id": "ffb9a22b",
   "metadata": {},
   "source": [
    "# Semana 07\n",
    "Luis Enrrique Montes Palacios"
   ]
  },
  {
   "cell_type": "markdown",
   "id": "e30ca083",
   "metadata": {},
   "source": [
    "Temas : \n",
    "1. Numeros\n",
    "2. Variables\n",
    "3. Manejo de Cadenas\n",
    "4. Ingreso de Datos por el teclado\n",
    "5. Operadores"
   ]
  },
  {
   "cell_type": "markdown",
   "id": "2275a115",
   "metadata": {},
   "source": [
    "2. Variables"
   ]
  },
  {
   "cell_type": "code",
   "execution_count": 33,
   "id": "d6d58d52",
   "metadata": {},
   "outputs": [],
   "source": [
    "edad = 20"
   ]
  },
  {
   "cell_type": "code",
   "execution_count": 34,
   "id": "2fe3e176",
   "metadata": {},
   "outputs": [
    {
     "data": {
      "text/plain": [
       "20"
      ]
     },
     "execution_count": 34,
     "metadata": {},
     "output_type": "execute_result"
    }
   ],
   "source": [
    "edad "
   ]
  },
  {
   "cell_type": "code",
   "execution_count": 35,
   "id": "4f60d919",
   "metadata": {},
   "outputs": [],
   "source": [
    "nombre = \"Luis\""
   ]
  },
  {
   "cell_type": "code",
   "execution_count": 36,
   "id": "11426e89",
   "metadata": {},
   "outputs": [
    {
     "data": {
      "text/plain": [
       "'Luis'"
      ]
     },
     "execution_count": 36,
     "metadata": {},
     "output_type": "execute_result"
    }
   ],
   "source": [
    "nombre"
   ]
  },
  {
   "cell_type": "code",
   "execution_count": 37,
   "id": "47c7c7ea",
   "metadata": {},
   "outputs": [],
   "source": [
    "apellido = \"Montes Palacios\""
   ]
  },
  {
   "cell_type": "code",
   "execution_count": 38,
   "id": "69d2b2de",
   "metadata": {},
   "outputs": [
    {
     "data": {
      "text/plain": [
       "'Montes Palacios'"
      ]
     },
     "execution_count": 38,
     "metadata": {},
     "output_type": "execute_result"
    }
   ],
   "source": [
    "apellido"
   ]
  },
  {
   "cell_type": "code",
   "execution_count": 39,
   "id": "569f1945",
   "metadata": {},
   "outputs": [],
   "source": [
    "nombre_completo = nombre + \" \" + apellido"
   ]
  },
  {
   "cell_type": "code",
   "execution_count": 40,
   "id": "0d42cee5",
   "metadata": {},
   "outputs": [
    {
     "data": {
      "text/plain": [
       "'Luis Montes Palacios'"
      ]
     },
     "execution_count": 40,
     "metadata": {},
     "output_type": "execute_result"
    }
   ],
   "source": [
    "nombre_completo"
   ]
  },
  {
   "cell_type": "code",
   "execution_count": 41,
   "id": "983e6c82",
   "metadata": {},
   "outputs": [
    {
     "data": {
      "text/plain": [
       "int"
      ]
     },
     "execution_count": 41,
     "metadata": {},
     "output_type": "execute_result"
    }
   ],
   "source": [
    "#para saber el tipo de variable usamos la duncion  type()\n",
    "#por ejemplo\n",
    "numero = 50\n",
    "type (numero)"
   ]
  },
  {
   "cell_type": "code",
   "execution_count": 42,
   "id": "70f0e6cf",
   "metadata": {},
   "outputs": [
    {
     "data": {
      "text/plain": [
       "str"
      ]
     },
     "execution_count": 42,
     "metadata": {},
     "output_type": "execute_result"
    }
   ],
   "source": [
    "type(nombre)"
   ]
  },
  {
   "cell_type": "code",
   "execution_count": 43,
   "id": "bbfed281",
   "metadata": {},
   "outputs": [],
   "source": [
    "talla = 1.69"
   ]
  },
  {
   "cell_type": "code",
   "execution_count": 44,
   "id": "58661898",
   "metadata": {},
   "outputs": [
    {
     "data": {
      "text/plain": [
       "1.69"
      ]
     },
     "execution_count": 44,
     "metadata": {},
     "output_type": "execute_result"
    }
   ],
   "source": [
    "talla"
   ]
  },
  {
   "cell_type": "code",
   "execution_count": 45,
   "id": "a4a411fb",
   "metadata": {},
   "outputs": [
    {
     "data": {
      "text/plain": [
       "float"
      ]
     },
     "execution_count": 45,
     "metadata": {},
     "output_type": "execute_result"
    }
   ],
   "source": [
    "type(talla)"
   ]
  },
  {
   "cell_type": "code",
   "execution_count": 46,
   "id": "0e60bcbb",
   "metadata": {},
   "outputs": [
    {
     "data": {
      "text/plain": [
       "'100'"
      ]
     },
     "execution_count": 46,
     "metadata": {},
     "output_type": "execute_result"
    }
   ],
   "source": [
    "#para converir un numero en cadena usamos str()\n",
    "numero = 100\n",
    "cadena =str(numero)\n",
    "cadena"
   ]
  },
  {
   "cell_type": "code",
   "execution_count": 47,
   "id": "b29a6de1",
   "metadata": {},
   "outputs": [
    {
     "data": {
      "text/plain": [
       "str"
      ]
     },
     "execution_count": 47,
     "metadata": {},
     "output_type": "execute_result"
    }
   ],
   "source": [
    "type(cadena)"
   ]
  },
  {
   "cell_type": "code",
   "execution_count": 48,
   "id": "601a039e",
   "metadata": {},
   "outputs": [
    {
     "data": {
      "text/plain": [
       "50"
      ]
     },
     "execution_count": 48,
     "metadata": {},
     "output_type": "execute_result"
    }
   ],
   "source": [
    "#para convertir una cadena en un entero usamos int()\n",
    "cadena2 = \"50\"\n",
    "numero2=int(cadena2)\n",
    "numero2"
   ]
  },
  {
   "cell_type": "code",
   "execution_count": 49,
   "id": "6f5bfc46",
   "metadata": {},
   "outputs": [
    {
     "data": {
      "text/plain": [
       "50.0"
      ]
     },
     "execution_count": 49,
     "metadata": {},
     "output_type": "execute_result"
    }
   ],
   "source": [
    "# para convertir una cadena a un decimal usamos float()\n",
    "cadena2=\"50\"\n",
    "numero2=float(cadena2)\n",
    "numero2"
   ]
  },
  {
   "cell_type": "code",
   "execution_count": 50,
   "id": "c806eb2b",
   "metadata": {},
   "outputs": [
    {
     "data": {
      "text/plain": [
       "float"
      ]
     },
     "execution_count": 50,
     "metadata": {},
     "output_type": "execute_result"
    }
   ],
   "source": [
    "type(numero2)"
   ]
  },
  {
   "cell_type": "code",
   "execution_count": null,
   "id": "6f78522a",
   "metadata": {},
   "outputs": [],
   "source": []
  },
  {
   "cell_type": "code",
   "execution_count": null,
   "id": "6da3447a",
   "metadata": {},
   "outputs": [],
   "source": []
  }
 ],
 "metadata": {
  "kernelspec": {
   "display_name": "Python 3 (ipykernel)",
   "language": "python",
   "name": "python3"
  },
  "language_info": {
   "codemirror_mode": {
    "name": "ipython",
    "version": 3
   },
   "file_extension": ".py",
   "mimetype": "text/x-python",
   "name": "python",
   "nbconvert_exporter": "python",
   "pygments_lexer": "ipython3",
   "version": "3.9.12"
  }
 },
 "nbformat": 4,
 "nbformat_minor": 5
}
