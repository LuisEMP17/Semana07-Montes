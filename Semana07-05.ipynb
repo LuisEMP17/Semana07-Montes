{
 "cells": [
  {
   "cell_type": "markdown",
   "id": "0f91cf06",
   "metadata": {},
   "source": [
    "# Semana 07\n",
    "Luis Enrrique Montes Palacios"
   ]
  },
  {
   "cell_type": "markdown",
   "id": "5f85346a",
   "metadata": {},
   "source": [
    "Temas : \n",
    "1. Numeros\n",
    "2. Variables\n",
    "3. Manejo de Cadenas\n",
    "4. Ingreso de Datos por el teclado\n",
    "5. Operadores"
   ]
  },
  {
   "cell_type": "markdown",
   "id": "efffe5b2",
   "metadata": {},
   "source": [
    "5.Operadores"
   ]
  },
  {
   "cell_type": "code",
   "execution_count": null,
   "id": "f06a5ef4",
   "metadata": {},
   "outputs": [],
   "source": [
    "#5.1 Operaciones Aritmeticas\n",
    "#Se tiene: +, -, *, /, **,"
   ]
  },
  {
   "cell_type": "code",
   "execution_count": 14,
   "id": "25d897a5",
   "metadata": {},
   "outputs": [
    {
     "name": "stdout",
     "output_type": "stream",
     "text": [
      "12\n"
     ]
    }
   ],
   "source": [
    "numero1= 10\n",
    "numero2= 2\n",
    "suma = numero1 + numero2\n",
    "print(suma)"
   ]
  },
  {
   "cell_type": "code",
   "execution_count": 15,
   "id": "792048fd",
   "metadata": {},
   "outputs": [
    {
     "name": "stdout",
     "output_type": "stream",
     "text": [
      "8\n"
     ]
    }
   ],
   "source": [
    "numero1= 10\n",
    "numero2= 2\n",
    "resta = numero1 - numero2\n",
    "print(resta)"
   ]
  },
  {
   "cell_type": "code",
   "execution_count": 16,
   "id": "3907809d",
   "metadata": {},
   "outputs": [
    {
     "name": "stdout",
     "output_type": "stream",
     "text": [
      "20\n"
     ]
    }
   ],
   "source": [
    "numero1= 10\n",
    "numero2= 2\n",
    "multi = numero1 * numero2\n",
    "print(multi)"
   ]
  },
  {
   "cell_type": "code",
   "execution_count": 17,
   "id": "6a3bc93f",
   "metadata": {},
   "outputs": [
    {
     "name": "stdout",
     "output_type": "stream",
     "text": [
      "5.0\n"
     ]
    }
   ],
   "source": [
    "numero1= 10\n",
    "numero2= 2\n",
    "divi = numero1 / numero2\n",
    "print(divi)"
   ]
  },
  {
   "cell_type": "code",
   "execution_count": 20,
   "id": "9b5c40b9",
   "metadata": {},
   "outputs": [
    {
     "name": "stdout",
     "output_type": "stream",
     "text": [
      "1\n"
     ]
    }
   ],
   "source": [
    "numero1= 10\n",
    "numero2= 3\n",
    "residuo = numero1 % numero2\n",
    "print(residuo)"
   ]
  },
  {
   "cell_type": "code",
   "execution_count": 19,
   "id": "ca63f564",
   "metadata": {},
   "outputs": [
    {
     "name": "stdout",
     "output_type": "stream",
     "text": [
      "3\n"
     ]
    }
   ],
   "source": [
    "numero1= 10\n",
    "numero2= 3\n",
    "coci = numero1 // numero2\n",
    "print(coci)"
   ]
  },
  {
   "cell_type": "code",
   "execution_count": 21,
   "id": "8b458962",
   "metadata": {},
   "outputs": [
    {
     "name": "stdout",
     "output_type": "stream",
     "text": [
      "1000\n"
     ]
    }
   ],
   "source": [
    "numero1= 10\n",
    "numero2= 3\n",
    "pote = numero1 ** numero2\n",
    "print(pote)"
   ]
  },
  {
   "cell_type": "code",
   "execution_count": 22,
   "id": "caebaa16",
   "metadata": {},
   "outputs": [
    {
     "name": "stdout",
     "output_type": "stream",
     "text": [
      "8\n"
     ]
    }
   ],
   "source": [
    "#5.2 operadores de asignaion : =, +=, -=, *=, /= **=,\n",
    "numero=5\n",
    "numero = numero +3\n",
    "print (numero)"
   ]
  },
  {
   "cell_type": "code",
   "execution_count": 24,
   "id": "cd5b84b3",
   "metadata": {},
   "outputs": [
    {
     "name": "stdout",
     "output_type": "stream",
     "text": [
      "8\n"
     ]
    }
   ],
   "source": [
    "numero=5\n",
    "numero +=3\n",
    "print (numero)"
   ]
  },
  {
   "cell_type": "code",
   "execution_count": 25,
   "id": "bdf51e35",
   "metadata": {},
   "outputs": [
    {
     "name": "stdout",
     "output_type": "stream",
     "text": [
      "2\n"
     ]
    }
   ],
   "source": [
    "numero=5\n",
    "numero -=3\n",
    "print (numero)"
   ]
  },
  {
   "cell_type": "code",
   "execution_count": 26,
   "id": "d9f5d592",
   "metadata": {},
   "outputs": [
    {
     "name": "stdout",
     "output_type": "stream",
     "text": [
      "15\n"
     ]
    }
   ],
   "source": [
    "numero=5\n",
    "numero *=3\n",
    "print (numero)"
   ]
  },
  {
   "cell_type": "code",
   "execution_count": 27,
   "id": "5c11b195",
   "metadata": {},
   "outputs": [
    {
     "name": "stdout",
     "output_type": "stream",
     "text": [
      "1.6666666666666667\n"
     ]
    }
   ],
   "source": [
    "numero=5\n",
    "numero /=3\n",
    "print (numero)"
   ]
  },
  {
   "cell_type": "code",
   "execution_count": 28,
   "id": "06ec7d08",
   "metadata": {},
   "outputs": [
    {
     "name": "stdout",
     "output_type": "stream",
     "text": [
      "125\n"
     ]
    }
   ],
   "source": [
    "numero=5\n",
    "numero **=3\n",
    "print (numero)"
   ]
  },
  {
   "cell_type": "code",
   "execution_count": 29,
   "id": "f4cd4d2d",
   "metadata": {},
   "outputs": [
    {
     "data": {
      "text/plain": [
       "False"
      ]
     },
     "execution_count": 29,
     "metadata": {},
     "output_type": "execute_result"
    }
   ],
   "source": [
    "#5.3 de comparacion ==, !=, <, >, <=, >=\n",
    "numero=5\n",
    "numero2=3\n",
    "numero1 == numero2"
   ]
  },
  {
   "cell_type": "code",
   "execution_count": 31,
   "id": "956da3fa",
   "metadata": {},
   "outputs": [
    {
     "data": {
      "text/plain": [
       "True"
      ]
     },
     "execution_count": 31,
     "metadata": {},
     "output_type": "execute_result"
    }
   ],
   "source": [
    "nombre1=\"juan\"\n",
    "nombre2=\"juan\"\n",
    "nombre1 == nombre2"
   ]
  },
  {
   "cell_type": "code",
   "execution_count": 32,
   "id": "32fe0072",
   "metadata": {},
   "outputs": [],
   "source": [
    "#5.4 Operadores Logicos : and, or, not\n",
    "numero1=5\n",
    "numero2=6\n",
    "numero3=7\n",
    "numero4=8"
   ]
  },
  {
   "cell_type": "code",
   "execution_count": 33,
   "id": "036307ad",
   "metadata": {},
   "outputs": [
    {
     "data": {
      "text/plain": [
       "True"
      ]
     },
     "execution_count": 33,
     "metadata": {},
     "output_type": "execute_result"
    }
   ],
   "source": [
    "numero1 < numero2"
   ]
  },
  {
   "cell_type": "code",
   "execution_count": 35,
   "id": "12d8cc21",
   "metadata": {},
   "outputs": [
    {
     "data": {
      "text/plain": [
       "False"
      ]
     },
     "execution_count": 35,
     "metadata": {},
     "output_type": "execute_result"
    }
   ],
   "source": [
    "not(numero1 <numero2)"
   ]
  },
  {
   "cell_type": "code",
   "execution_count": 36,
   "id": "a3f3b0ba",
   "metadata": {},
   "outputs": [
    {
     "data": {
      "text/plain": [
       "True"
      ]
     },
     "execution_count": 36,
     "metadata": {},
     "output_type": "execute_result"
    }
   ],
   "source": [
    "numero1 < numero2 and numero3 < numero4"
   ]
  },
  {
   "cell_type": "code",
   "execution_count": 38,
   "id": "69b65c62",
   "metadata": {},
   "outputs": [
    {
     "data": {
      "text/plain": [
       "True"
      ]
     },
     "execution_count": 38,
     "metadata": {},
     "output_type": "execute_result"
    }
   ],
   "source": [
    "(numero1 < numero2 and numero3 < numero4) or (numero3 > numero4)"
   ]
  },
  {
   "cell_type": "code",
   "execution_count": 39,
   "id": "da46c780",
   "metadata": {},
   "outputs": [],
   "source": [
    "#Operadrd de pertenecia : in, not in\n",
    "aula=[\"juan\",\"daniel\",\"ruben\"]\n",
    "alumno1=\"diego\"\n",
    "alumno2=\"juan\""
   ]
  },
  {
   "cell_type": "code",
   "execution_count": 41,
   "id": "7802fcb1",
   "metadata": {},
   "outputs": [
    {
     "data": {
      "text/plain": [
       "False"
      ]
     },
     "execution_count": 41,
     "metadata": {},
     "output_type": "execute_result"
    }
   ],
   "source": [
    "alumno1 in aula"
   ]
  },
  {
   "cell_type": "code",
   "execution_count": 42,
   "id": "7c626523",
   "metadata": {},
   "outputs": [
    {
     "data": {
      "text/plain": [
       "True"
      ]
     },
     "execution_count": 42,
     "metadata": {},
     "output_type": "execute_result"
    }
   ],
   "source": [
    "alumno2 in aula"
   ]
  },
  {
   "cell_type": "code",
   "execution_count": 43,
   "id": "e92bdb84",
   "metadata": {},
   "outputs": [
    {
     "data": {
      "text/plain": [
       "True"
      ]
     },
     "execution_count": 43,
     "metadata": {},
     "output_type": "execute_result"
    }
   ],
   "source": [
    "alumno1 not in aula"
   ]
  },
  {
   "cell_type": "code",
   "execution_count": 44,
   "id": "98db15d9",
   "metadata": {},
   "outputs": [],
   "source": [
    "#operadores de identidad: is, is not\n",
    "aula1= [\"juan\", \"daniel\",\"ruben\"]\n",
    "aula2= [\"juan\", \"daniel\",\"ruben\"]\n",
    "aula3 = aula1"
   ]
  },
  {
   "cell_type": "code",
   "execution_count": 45,
   "id": "8f82e43f",
   "metadata": {},
   "outputs": [
    {
     "data": {
      "text/plain": [
       "True"
      ]
     },
     "execution_count": 45,
     "metadata": {},
     "output_type": "execute_result"
    }
   ],
   "source": [
    "aula3 is aula1"
   ]
  },
  {
   "cell_type": "code",
   "execution_count": 46,
   "id": "d3b0def4",
   "metadata": {},
   "outputs": [
    {
     "data": {
      "text/plain": [
       "False"
      ]
     },
     "execution_count": 46,
     "metadata": {},
     "output_type": "execute_result"
    }
   ],
   "source": [
    "aula3 is aula2"
   ]
  },
  {
   "cell_type": "code",
   "execution_count": 47,
   "id": "7042d6bc",
   "metadata": {},
   "outputs": [
    {
     "data": {
      "text/plain": [
       "True"
      ]
     },
     "execution_count": 47,
     "metadata": {},
     "output_type": "execute_result"
    }
   ],
   "source": [
    "aula3 is not aula2"
   ]
  },
  {
   "cell_type": "code",
   "execution_count": 48,
   "id": "4821b1ff",
   "metadata": {},
   "outputs": [],
   "source": [
    "aula1.append(\"diego\")"
   ]
  },
  {
   "cell_type": "code",
   "execution_count": 49,
   "id": "006f844e",
   "metadata": {},
   "outputs": [
    {
     "data": {
      "text/plain": [
       "['juan', 'daniel', 'ruben', 'diego']"
      ]
     },
     "execution_count": 49,
     "metadata": {},
     "output_type": "execute_result"
    }
   ],
   "source": [
    "aula1"
   ]
  },
  {
   "cell_type": "code",
   "execution_count": 50,
   "id": "041d1603",
   "metadata": {},
   "outputs": [
    {
     "data": {
      "text/plain": [
       "['juan', 'daniel', 'ruben', 'diego']"
      ]
     },
     "execution_count": 50,
     "metadata": {},
     "output_type": "execute_result"
    }
   ],
   "source": [
    "aula3"
   ]
  },
  {
   "cell_type": "code",
   "execution_count": 51,
   "id": "7e07c28f",
   "metadata": {},
   "outputs": [
    {
     "data": {
      "text/plain": [
       "['juan', 'daniel', 'ruben']"
      ]
     },
     "execution_count": 51,
     "metadata": {},
     "output_type": "execute_result"
    }
   ],
   "source": [
    "aula2"
   ]
  },
  {
   "cell_type": "code",
   "execution_count": null,
   "id": "e522da5e",
   "metadata": {},
   "outputs": [],
   "source": []
  }
 ],
 "metadata": {
  "kernelspec": {
   "display_name": "Python 3 (ipykernel)",
   "language": "python",
   "name": "python3"
  },
  "language_info": {
   "codemirror_mode": {
    "name": "ipython",
    "version": 3
   },
   "file_extension": ".py",
   "mimetype": "text/x-python",
   "name": "python",
   "nbconvert_exporter": "python",
   "pygments_lexer": "ipython3",
   "version": "3.9.12"
  }
 },
 "nbformat": 4,
 "nbformat_minor": 5
}
