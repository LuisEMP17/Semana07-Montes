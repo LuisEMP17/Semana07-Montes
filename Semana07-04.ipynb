{
 "cells": [
  {
   "cell_type": "markdown",
   "id": "07d48dc8",
   "metadata": {},
   "source": [
    "# Semana 07\n",
    "Luis Enrrique Montes Palacios"
   ]
  },
  {
   "cell_type": "markdown",
   "id": "cae7b3fb",
   "metadata": {},
   "source": [
    "Temas : \n",
    "1. Numeros\n",
    "2. Variables\n",
    "3. Manejo de Cadenas\n",
    "4. Ingreso de Datos por el teclado\n",
    "5. Operadores"
   ]
  },
  {
   "cell_type": "markdown",
   "id": "a5956535",
   "metadata": {},
   "source": [
    "4. Ingreso de Datos por el teclado"
   ]
  },
  {
   "cell_type": "code",
   "execution_count": 1,
   "id": "7cbca345",
   "metadata": {},
   "outputs": [
    {
     "name": "stdout",
     "output_type": "stream",
     "text": [
      "¿Com te llamas\n",
      "luisito\n",
      "holaluisito\n"
     ]
    }
   ],
   "source": [
    "#Funcion input()\n",
    "print(\"¿Com te llamas\")\n",
    "nombre=input()\n",
    "print(\"hola\"+nombre)"
   ]
  },
  {
   "cell_type": "code",
   "execution_count": 4,
   "id": "f34cca7f",
   "metadata": {},
   "outputs": [
    {
     "name": "stdout",
     "output_type": "stream",
     "text": [
      "numero 1: \n",
      "15\n",
      "numero 2: \n",
      "18\n",
      "El resultado es 33\n"
     ]
    }
   ],
   "source": [
    "#Cuando ingresa un valor por teclado lo hace como cadena\n",
    "print(\"numero 1: \")\n",
    "numero1  =input()\n",
    "print(\"numero 2: \")\n",
    "numero2  =input()\n",
    "numero3 = int(numero1) + int(numero2)\n",
    "print(f\"El resultado es {numero3}\")"
   ]
  },
  {
   "cell_type": "code",
   "execution_count": null,
   "id": "91f19f11",
   "metadata": {},
   "outputs": [],
   "source": []
  }
 ],
 "metadata": {
  "kernelspec": {
   "display_name": "Python 3 (ipykernel)",
   "language": "python",
   "name": "python3"
  },
  "language_info": {
   "codemirror_mode": {
    "name": "ipython",
    "version": 3
   },
   "file_extension": ".py",
   "mimetype": "text/x-python",
   "name": "python",
   "nbconvert_exporter": "python",
   "pygments_lexer": "ipython3",
   "version": "3.9.12"
  }
 },
 "nbformat": 4,
 "nbformat_minor": 5
}
